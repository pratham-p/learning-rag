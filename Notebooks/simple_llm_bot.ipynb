{
 "cells": [
  {
   "cell_type": "markdown",
   "metadata": {},
   "source": [
    "### Lets see tokenization"
   ]
  },
  {
   "cell_type": "code",
   "execution_count": null,
   "metadata": {},
   "outputs": [],
   "source": [
    "# OpenAI Embedding Models: https://platform.openai.com/docs/guides/embeddings#embedding-models\n",
    "# Different models uses different encodings.\n",
    "\n",
    "import tiktoken #OpenAI's python library for tokenizing text\n",
    "encoding = tiktoken.encoding_for_model(\"text-embedding-3-small\")\n",
    "\n",
    "tokens = encoding.encode(\"Hello World!\")\n",
    "print(tokens)\n",
    "print(len(tokens))\n",
    "text = encoding.decode([51, 1609, 5963, 374, 8056, 6875, 0])\n",
    "print(text)"
   ]
  },
  {
   "cell_type": "markdown",
   "metadata": {},
   "source": [
    "### Let's see a simple bot using OpenAI (No RAG)"
   ]
  },
  {
   "cell_type": "code",
   "execution_count": null,
   "metadata": {},
   "outputs": [],
   "source": [
    "import os\n",
    "import openai\n",
    "from dotenv import load_dotenv, find_dotenv\n",
    "from langchain.chat_models import ChatOpenAI\n",
    "\n",
    "load_dotenv(find_dotenv())\n",
    "#openai.api_key = os.environ[\"OPENAI_API_KEY\"]\n",
    "\n",
    "llm = ChatOpenAI(model=\"gpt-4o-mini\",\n",
    "                 temperature=0,\n",
    "                 max_tokens=100)\n",
    "prompt = [\n",
    "    (\n",
    "        \"assistant\", #role\n",
    "        \"You are a funny assistant that loves to tell jokes. You are also a very good programmer. You can answer questions about programming, but you should always try to make it funny. If you don't know something, just say I don't know instead of making up answers.\" #instructions\n",
    "    ),\n",
    "    (\n",
    "        \"user\", #role\n",
    "        #\"Tell me a joke about java language.\" #message\n",
    "        #\"Tell me about the history of programming.\"\n",
    "        \"What is my dog's name?\"\n",
    "    )\n",
    "]\n",
    "\n",
    "response = llm.invoke(prompt)\n",
    "print(response)\n",
    "print(response.content)"
   ]
  }
 ],
 "metadata": {
  "kernelspec": {
   "display_name": ".venv",
   "language": "python",
   "name": "python3"
  },
  "language_info": {
   "codemirror_mode": {
    "name": "ipython",
    "version": 3
   },
   "file_extension": ".py",
   "mimetype": "text/x-python",
   "name": "python",
   "nbconvert_exporter": "python",
   "pygments_lexer": "ipython3",
   "version": "3.9.6"
  }
 },
 "nbformat": 4,
 "nbformat_minor": 2
}
