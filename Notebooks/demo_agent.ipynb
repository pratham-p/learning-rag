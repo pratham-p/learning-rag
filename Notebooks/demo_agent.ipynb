{
 "cells": [
  {
   "cell_type": "markdown",
   "metadata": {},
   "source": [
    "### Let's see RAG in Action"
   ]
  },
  {
   "cell_type": "markdown",
   "metadata": {},
   "source": [
    "#### We will be using LangChain Library. It helps to abstract lot of complexities while helping build chains that makes working with LLMs easy"
   ]
  },
  {
   "cell_type": "code",
   "execution_count": null,
   "metadata": {},
   "outputs": [],
   "source": [
    "# Import the necessary libraries\n",
    "import os\n",
    "from dotenv import load_dotenv, find_dotenv\n",
    "from langchain.embeddings import OpenAIEmbeddings\n",
    "from langchain.vectorstores import Chroma\n",
    "from langchain.chains import ConversationalRetrievalChain\n",
    "from langchain.chat_models import ChatOpenAI\n",
    "from langchain.document_loaders import DirectoryLoader\n",
    "from langchain.text_splitter import RecursiveCharacterTextSplitter\n",
    "import openai\n",
    "\n",
    "load_dotenv(find_dotenv())\n",
    "#openai.api_key = os.environ[\"OPENAI_API_KEY\"]"
   ]
  },
  {
   "cell_type": "markdown",
   "metadata": {},
   "source": [
    "### Create Vector Store (persisted)"
   ]
  },
  {
   "cell_type": "code",
   "execution_count": null,
   "metadata": {},
   "outputs": [],
   "source": [
    "PERSIST_DIRECTORY = \"../vector_db\"\n",
    "# Initialize Chroma client with persistence settings\n",
    "vectorstore = Chroma(\n",
    "    persist_directory=PERSIST_DIRECTORY,\n",
    "    embedding_function=OpenAIEmbeddings()\n",
    ")"
   ]
  },
  {
   "cell_type": "markdown",
   "metadata": {},
   "source": [
    "### Vectorize the data"
   ]
  },
  {
   "cell_type": "code",
   "execution_count": null,
   "metadata": {},
   "outputs": [],
   "source": [
    "\n",
    "# Load and vectorize documents from a folder\n",
    "folder_path = \"../test_data\"\n",
    "\n",
    "print(\"loading documents...\")\n",
    "loader = DirectoryLoader(folder_path, glob=\"*.txt\")  # Adjust glob for other file types if needed\n",
    "documents = loader.load()\n",
    "\n",
    "# Split large documents into smaller chunks for better embeddings\n",
    "#text_splitter = RecursiveCharacterTextSplitter(chunk_size=1000, chunk_overlap=200)\n",
    "#docs = text_splitter.split_documents(documents)\n",
    "\n",
    "# Add documents to the vector store and persist it\n",
    "vectorstore.add_documents(documents)\n",
    "vectorstore.persist()"
   ]
  },
  {
   "cell_type": "markdown",
   "metadata": {},
   "source": [
    "### Let's validate Vector store data"
   ]
  },
  {
   "cell_type": "code",
   "execution_count": null,
   "metadata": {},
   "outputs": [],
   "source": [
    "#  Test retrieval functionality\n",
    "def test_documents_retrieval():\n",
    "    retriever = vectorstore.as_retriever(\n",
    "        search_type=\"similarity\",\n",
    "        search_kwargs={\"k\": 1}\n",
    "    )\n",
    "\n",
    "    # Try a simple query to see if retrieval works\n",
    "    test_query = \"What information do you have?\"\n",
    "    docs = retriever.get_relevant_documents(test_query)\n",
    "    \n",
    "    print(f\"Retrieved {len(docs)} documents for test query\")\n",
    "    if len(docs) == 0:\n",
    "        print(\"❌ No documents retrieved for test query. Check embedding function and collection.\")\n",
    "        return\n",
    "    else:\n",
    "        print(\"✅ Document retrieval is working\")\n",
    "        print(\"\\nSample document content:\")\n",
    "        print(f\"Document 1: {docs[0].page_content[:150]}...\")"
   ]
  },
  {
   "cell_type": "code",
   "execution_count": null,
   "metadata": {},
   "outputs": [],
   "source": [
    "# Check if vector store exist and have documents\n",
    "collection_count = len(vectorstore._collection.get()['ids'])\n",
    "print(f\"Found {collection_count} documents in the collection\")\n",
    "\n",
    "if collection_count == 0:\n",
    "    print(\"❌ No documents found in the collection. Please check the folder path and document format.\")\n",
    "else:\n",
    "    test_documents_retrieval()"
   ]
  },
  {
   "cell_type": "markdown",
   "metadata": {},
   "source": [
    "### Create Conversational Chain"
   ]
  },
  {
   "cell_type": "code",
   "execution_count": null,
   "metadata": {},
   "outputs": [],
   "source": [
    "# Set up the conversational chain\n",
    "\n",
    "llm = ChatOpenAI(temperature=0, model=\"gpt-4o-mini\")\n",
    "retriever = vectorstore.as_retriever(search_kwargs={\"k\": 1})  # Adjust k for number of documents to retrieve\n",
    "chain = ConversationalRetrievalChain.from_llm(llm, retriever)"
   ]
  },
  {
   "cell_type": "markdown",
   "metadata": {},
   "source": [
    "### Let's chat with our personal bot"
   ]
  },
  {
   "cell_type": "code",
   "execution_count": null,
   "metadata": {},
   "outputs": [],
   "source": [
    "def chat_with_bot():\n",
    "    print(\"Bot is ready. Type 'exit' to quit.\")\n",
    "    chat_history = []\n",
    "\n",
    "    while True:\n",
    "        user_input = input(\"User: \")\n",
    "        if user_input.lower() == \"exit\":\n",
    "            break\n",
    "        \n",
    "        response = chain({\"question\": user_input, \"chat_history\": chat_history})\n",
    "        print(f\"Bot: {response['answer']}\")\n",
    "        \n",
    "        chat_history.append((user_input, response['answer']))\n",
    "\n",
    "chat_with_bot()"
   ]
  }
 ],
 "metadata": {
  "kernelspec": {
   "display_name": ".venv",
   "language": "python",
   "name": "python3"
  },
  "language_info": {
   "codemirror_mode": {
    "name": "ipython",
    "version": 3
   },
   "file_extension": ".py",
   "mimetype": "text/x-python",
   "name": "python",
   "nbconvert_exporter": "python",
   "pygments_lexer": "ipython3",
   "version": "3.9.6"
  }
 },
 "nbformat": 4,
 "nbformat_minor": 2
}
